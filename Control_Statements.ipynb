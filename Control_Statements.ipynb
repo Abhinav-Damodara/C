{
  "nbformat": 4,
  "nbformat_minor": 0,
  "metadata": {
    "colab": {
      "name": "Control_Statements.ipynb",
      "provenance": [],
      "collapsed_sections": [],
      "authorship_tag": "ABX9TyM1rVNkfsPzyiPeDT8d+GM/",
      "include_colab_link": true
    },
    "kernelspec": {
      "name": "python3",
      "display_name": "Python 3"
    },
    "language_info": {
      "name": "python"
    }
  },
  "cells": [
    {
      "cell_type": "markdown",
      "metadata": {
        "id": "view-in-github",
        "colab_type": "text"
      },
      "source": [
        "<a href=\"https://colab.research.google.com/github/AbhinavGitam/C/blob/main/Control_Statements.ipynb\" target=\"_parent\"><img src=\"https://colab.research.google.com/assets/colab-badge.svg\" alt=\"Open In Colab\"/></a>"
      ]
    },
    {
      "cell_type": "markdown",
      "source": [
        "## control Statements"
      ],
      "metadata": {
        "id": "xyFyT8NSpwvx"
      }
    },
    {
      "cell_type": "markdown",
      "source": [
        "1) if-else"
      ],
      "metadata": {
        "id": "J5SwBsElrce4"
      }
    },
    {
      "cell_type": "code",
      "source": [
        "a = int(input('Enter Your Age :'))\n",
        "if(a>=18):\n",
        "  print('You Are Eligible For Voting')\n",
        "else:\n",
        "  print('Not Eligible For Voting')"
      ],
      "metadata": {
        "colab": {
          "base_uri": "https://localhost:8080/"
        },
        "id": "knF0-VOppyx3",
        "outputId": "ddd12e17-f8a5-429c-a4cb-cf4ff5aa0ed0"
      },
      "execution_count": 10,
      "outputs": [
        {
          "output_type": "stream",
          "name": "stdout",
          "text": [
            "Enter Your Age :18\n",
            "You Are Eligible For Voting\n"
          ]
        }
      ]
    },
    {
      "cell_type": "markdown",
      "source": [
        "2) Maximum of 3 numbers"
      ],
      "metadata": {
        "id": "cQDt39wzrijS"
      }
    },
    {
      "cell_type": "code",
      "source": [
        "a = int(input('Enter the first number :'))\n",
        "b = int(input('Enter the second number :'))\n",
        "c = int(input('Enter the third number :'))\n",
        "if(a>b & a>c):\n",
        "  print('A is the greatest')\n",
        "elif(b>a & b>c):\n",
        "  print('B is the greatest')\n",
        "else:\n",
        "   print('C is the greatest')"
      ],
      "metadata": {
        "colab": {
          "base_uri": "https://localhost:8080/"
        },
        "id": "MbxYNfHGqPWI",
        "outputId": "e1adba5a-0e35-4a57-e8bd-8b0b3fdaa13c"
      },
      "execution_count": 16,
      "outputs": [
        {
          "output_type": "stream",
          "name": "stdout",
          "text": [
            "Enter the first number :4\n",
            "Enter the second number :5\n",
            "Enter the third number :6\n",
            "C is the greatest\n"
          ]
        }
      ]
    },
    {
      "cell_type": "code",
      "source": [
        "a = int(input('Enter the first number :'))\n",
        "b = int(input('Enter the second number :'))\n",
        "c = int(input('Enter the third number :'))\n",
        "d = int(input('Enter the fourth number :'))\n",
        "e = int(input('Enter the fifth number :'))\n",
        "if(a>b & a>c & a>d & a>e):\n",
        "  print(a,'A is the greatest')\n",
        "elif(b>a & b>c & b>d & b>e):\n",
        "  print(b,'B is the greatest')\n",
        "elif(c>a & c>b & c>d & c>e):\n",
        "  print(c,'C is the greatest')\n",
        "elif(d>a & d>b & d>c & d>e):\n",
        "  print(d,'D is the greatest')\n",
        "else:\n",
        "  print(e,'E is the greatest')"
      ],
      "metadata": {
        "colab": {
          "base_uri": "https://localhost:8080/"
        },
        "id": "n9lQUyrMu_Yv",
        "outputId": "ca3aec07-3d9e-456a-ce6c-babceb6e8efc"
      },
      "execution_count": 20,
      "outputs": [
        {
          "output_type": "stream",
          "name": "stdout",
          "text": [
            "Enter the first number :5\n",
            "Enter the second number :6\n",
            "Enter the third number :4\n",
            "Enter the fourth number :9\n",
            "Enter the fifth number :200\n",
            "200 E is the greatest\n"
          ]
        }
      ]
    },
    {
      "cell_type": "markdown",
      "source": [
        "4)Subject marks"
      ],
      "metadata": {
        "id": "i32fwT6owjxf"
      }
    },
    {
      "cell_type": "code",
      "source": [
        "a = int(input('Enter the marks of maths :'))\n",
        "b = int(input('Enter the marks of physics :'))\n",
        "c = int(input('Enter the marks of english :'))\n",
        "d = int(input('Enter the marks of Computer Science :'))\n",
        "e = int(input('Enter the marks of Clad :'))\n",
        "if a>b and a>c and a>d and a>e :\n",
        "  print(a)\n",
        "elif b>a and b>c and b>d and b>e :\n",
        "  print(b)\n",
        "elif c>a and c>b and c>d and c>e :\n",
        "  print(c)\n",
        "elif d>a and d>b and d>c and d>e :\n",
        "  print(d)\n",
        "elif e>a and e>b and e>c and e>d :\n",
        "  print(e)"
      ],
      "metadata": {
        "colab": {
          "base_uri": "https://localhost:8080/"
        },
        "id": "4TGqZAF7woqV",
        "outputId": "106cc7a2-e823-4c5b-ced6-47854a162513"
      },
      "execution_count": 29,
      "outputs": [
        {
          "output_type": "stream",
          "name": "stdout",
          "text": [
            "Enter the marks of maths :90\n",
            "Enter the marks of physics :60\n",
            "Enter the marks of english :50\n",
            "Enter the marks of Computer Science :99\n",
            "Enter the marks of Clad :30\n",
            "99\n"
          ]
        }
      ]
    }
  ]
}